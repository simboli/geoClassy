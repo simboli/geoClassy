{
 "cells": [
  {
   "cell_type": "markdown",
   "metadata": {},
   "source": [
    "# geoClassy"
   ]
  },
  {
   "cell_type": "markdown",
   "metadata": {},
   "source": [
    "The geoClassy package was developed from the need of using GeoJSON files with [OpenStreetMap data](https://wiki.openstreetmap.org/wiki/Downloading_data) to classify points which GPS coordinates are known. Using the GeoJSON format as input, the package can also be used with files from sources different from OpenStreetMap."
   ]
  },
  {
   "cell_type": "markdown",
   "metadata": {},
   "source": [
    "Examples of use:\n",
    "\n",
    "* find the neighborhood of the city with most AirBnB beds;\n",
    "* classification of customers by key account area of competence;\n",
    "* filter of road accidents in a certain province;\n",
    "* assessment of the air quality for a specific Municipality;\n",
    "* list of cities affected by the passage of an hurricane."
   ]
  },
  {
   "cell_type": "markdown",
   "metadata": {},
   "source": [
    "# Contact"
   ]
  },
  {
   "cell_type": "markdown",
   "metadata": {},
   "source": [
    "If you wish to contact the author of this module you can just send an e-mail to *support@simboli.eu*.\n",
    "If you want to read the lastest news about this package you can stay connected with the [Simboli.EU](http://www.simboli.eu/) blog."
   ]
  },
  {
   "cell_type": "markdown",
   "metadata": {},
   "source": [
    "# Changelog"
   ]
  },
  {
   "cell_type": "markdown",
   "metadata": {},
   "source": [
    "## Version 0.0.5 (beta)"
   ]
  },
  {
   "cell_type": "markdown",
   "metadata": {},
   "source": [
    "* Small code diet;\n",
    "* Added project documentation."
   ]
  },
  {
   "cell_type": "markdown",
   "metadata": {},
   "source": [
    "## Version 0.0.4 (beta)"
   ]
  },
  {
   "cell_type": "markdown",
   "metadata": {},
   "source": [
    "Fist downloadable version:\n",
    "* Project added to [PyPI](https://pypi.org/project/geoClassy/)"
   ]
  },
  {
   "cell_type": "markdown",
   "metadata": {},
   "source": [
    "## Versions <= 0.0.3"
   ]
  },
  {
   "cell_type": "markdown",
   "metadata": {},
   "source": [
    "Test versions used for debugs and primary tests."
   ]
  },
  {
   "cell_type": "markdown",
   "metadata": {},
   "source": [
    "# Data sources"
   ]
  },
  {
   "cell_type": "markdown",
   "metadata": {},
   "source": [
    "The module was designed to accept as input the GeoJSON files from the OpenStreetMap database. This data can be extracted in several ways, some of my favourites are the following:\n",
    "\n",
    "- GeoJSON page downloaded from Simboli.eu;\n",
    "- Overpass-Turbo;\n",
    "- Polygons OpenStreetMap FR."
   ]
  },
  {
   "cell_type": "markdown",
   "metadata": {},
   "source": [
    "## GeoJSON page on this web site"
   ]
  },
  {
   "cell_type": "markdown",
   "metadata": {},
   "source": [
    "That’s the easiest way to download a complete and ready to use file geoJSON to feed the geoClassy package. All available geoJSON files can be found on [this page](http://www.simboli.eu/geojson-file/). If you need some specific files just mail me and I’ll try to help you."
   ]
  },
  {
   "cell_type": "markdown",
   "metadata": {},
   "source": [
    "## Overpass-Turbo"
   ]
  },
  {
   "cell_type": "markdown",
   "metadata": {},
   "source": [
    "This is a powerful tool and I can say that it is one of the best tool you can learn if you want to work in the data science using geographical data. The platform can be found on [this page](https://overpass-turbo.eu/) where there is also a useful Query Wizard for those who are using the tool for their first times.\n",
    "Query should be written in Overpass XML or Overpass QL, a getting [started guide](https://wiki.openstreetmap.org/wiki/Overpass_API) and [examples cookbook](https://wiki.openstreetmap.org/wiki/Overpass_API/Overpass_API_by_Example) are provided from OpenStreetMap."
   ]
  },
  {
   "cell_type": "markdown",
   "metadata": {},
   "source": [
    "## Polygons OpenStreetMap FR"
   ]
  },
  {
   "cell_type": "markdown",
   "metadata": {},
   "source": [
    "If you are a data nerd (and probably you are if you are using this package 🙂 ) you could think about including in your projects [this direct link](https://peteris.rocks/blog/openstreetmap-administrative-boundaries-in-geojson/) to execute Overpass queries. Please note that the linked tutorial shows how to extract data in JSON, you also have to convert it in geoJSON if you want to use with geoClassy."
   ]
  },
  {
   "cell_type": "markdown",
   "metadata": {},
   "source": [
    "# Requirements"
   ]
  },
  {
   "cell_type": "markdown",
   "metadata": {},
   "source": [
    "The module, to work properly, requires that the Shapely module and the Json module have also been installed.\n",
    "\n",
    "If don’t have them, you have to install them before continue. Json is a build-in package so your Python installation should already include it, Shapely could be downloaded by its [Pypi page](https://pypi.org/project/Shapely/)."
   ]
  },
  {
   "cell_type": "markdown",
   "metadata": {},
   "source": [
    "# Installation"
   ]
  },
  {
   "cell_type": "markdown",
   "metadata": {},
   "source": [
    "As most of the Python modules, geoClassy can be [installated](https://pypi.org/project/geoClassy/) with the easy PIP installer, just using the following: `pip install geoClassy`"
   ]
  },
  {
   "cell_type": "markdown",
   "metadata": {},
   "source": [
    "# Import"
   ]
  },
  {
   "cell_type": "markdown",
   "metadata": {},
   "source": [
    "The best way to import this module is the following"
   ]
  },
  {
   "cell_type": "code",
   "execution_count": 1,
   "metadata": {
    "collapsed": true
   },
   "outputs": [],
   "source": [
    "from geoClassy import single as gCs"
   ]
  },
  {
   "cell_type": "markdown",
   "metadata": {},
   "source": [
    "# Usage ot the geoClassy package"
   ]
  },
  {
   "cell_type": "markdown",
   "metadata": {},
   "source": [
    "## requisites()"
   ]
  },
  {
   "cell_type": "markdown",
   "metadata": {},
   "source": [
    "This methods does not accept any parameters and try to import Shapely and JSON package as they are needed to use geoClassy module."
   ]
  },
  {
   "cell_type": "code",
   "execution_count": 2,
   "metadata": {
    "collapsed": false
   },
   "outputs": [
    {
     "name": "stdout",
     "output_type": "stream",
     "text": [
      "Json module correctly imported\n",
      "Shapely Geometry module correctly imported\n"
     ]
    }
   ],
   "source": [
    "gCs.requisites()"
   ]
  },
  {
   "cell_type": "markdown",
   "metadata": {},
   "source": [
    "## loadFile(fname)"
   ]
  },
  {
   "cell_type": "markdown",
   "metadata": {},
   "source": [
    "This methods is the first to use in the program as it read the geoJSON file (the path should be stored into a variable fname or write directly between the two braches) and build n polygons for every closed area defined in the file.\n",
    "\n",
    "If the GeoJSON file is in the same folder where the Python script is saved you can use only the filename:"
   ]
  },
  {
   "cell_type": "code",
   "execution_count": 3,
   "metadata": {
    "collapsed": false
   },
   "outputs": [],
   "source": [
    "GEOJSON_PATH='USA New York City neightborhoods 20190127.geojson'\n",
    "gCs.loadFile(GEOJSON_PATH)"
   ]
  },
  {
   "cell_type": "markdown",
   "metadata": {},
   "source": [
    "otherwise you can specify the complete path:"
   ]
  },
  {
   "cell_type": "code",
   "execution_count": 4,
   "metadata": {
    "collapsed": true
   },
   "outputs": [],
   "source": [
    "GEOJSON_PATH='/home/Paul/geoClassy_documentation/USA New York City neightborhoods 20190127.geojson'\n",
    "gCs.loadFile(GEOJSON_PATH)"
   ]
  },
  {
   "cell_type": "markdown",
   "metadata": {},
   "source": [
    "## numPoly()"
   ]
  },
  {
   "cell_type": "markdown",
   "metadata": {},
   "source": [
    "It simply shows the number of polygons that are being imported into our systems."
   ]
  },
  {
   "cell_type": "code",
   "execution_count": 5,
   "metadata": {
    "collapsed": false
   },
   "outputs": [
    {
     "name": "stdout",
     "output_type": "stream",
     "text": [
      "55  polygons loaded\n"
     ]
    }
   ],
   "source": [
    "gCs.numPoly()"
   ]
  },
  {
   "cell_type": "markdown",
   "metadata": {},
   "source": [
    "## checkPoly()"
   ]
  },
  {
   "cell_type": "markdown",
   "metadata": {},
   "source": [
    "This methods print the list of polygons loaded in the LoadFile step and print if they are valid or not."
   ]
  },
  {
   "cell_type": "code",
   "execution_count": 6,
   "metadata": {
    "collapsed": false
   },
   "outputs": [
    {
     "name": "stdout",
     "output_type": "stream",
     "text": [
      "Polygon 0 : Marble Hill\n",
      "ok\n",
      "Polygon 1 : Times Square\n",
      "ok\n",
      "Polygon 2 : Flatiron District\n",
      "ok\n",
      "Polygon 3 : Inwood\n",
      "ok\n",
      "Polygon 4 : Fort George\n",
      "ok\n",
      "Polygon 5 : Hudson Heights\n",
      "ok\n",
      "Polygon 6 : Washington Heights\n",
      "ok\n",
      "Polygon 7 : Sugar Hill\n",
      "ok\n",
      "Polygon 8 : Hamilton Heights\n",
      "ok\n",
      "Polygon 9 : Manhattanville\n",
      "ok\n",
      "Polygon 10 : Morningside Heights\n",
      "ok\n",
      "Polygon 11 : Manhattan Valley\n",
      "ok\n",
      "Polygon 12 : Harlem\n",
      "ok\n",
      "Polygon 13 : East Harlem\n",
      "ok\n",
      "Polygon 14 : Carnegie Hill\n",
      "ok\n",
      "Polygon 15 : Yorkville\n",
      "ok\n",
      "Polygon 16 : Upper West Side\n",
      "ok\n",
      "Polygon 17 : Lincoln Square\n",
      "ok\n",
      "Polygon 18 : Columbus Circle\n",
      "ok\n",
      "Polygon 19 : Upper East Side\n",
      "ok\n",
      "Polygon 20 : Lenox Hill\n",
      "ok\n",
      "Polygon 21 : Midtown\n",
      "ok\n",
      "Polygon 22 : Midtown East\n",
      "ok\n",
      "Polygon 23 : Turtle Bay\n",
      "ok\n",
      "Polygon 24 : Tudor City\n",
      "ok\n",
      "Polygon 25 : Murray Hill\n",
      "ok\n",
      "Polygon 26 : Hudson Yards\n",
      "ok\n",
      "Polygon 27 : Hell's Kitchen\n",
      "ok\n",
      "Polygon 28 : Garment District\n",
      "ok\n",
      "Polygon 29 : Herald Square\n",
      "ok\n",
      "Polygon 30 : Koreatown\n",
      "ok\n",
      "Polygon 31 : Midtown South\n",
      "ok\n",
      "Polygon 32 : NoMad\n",
      "ok\n",
      "Polygon 33 : Rose Hill\n",
      "ok\n",
      "Polygon 34 : Kips Bay\n",
      "ok\n",
      "Polygon 35 : Stuy Town\n",
      "ok\n",
      "Polygon 36 : Gramercy\n",
      "ok\n",
      "Polygon 37 : Union Square\n",
      "ok\n",
      "Polygon 38 : Chelsea\n",
      "ok\n",
      "Polygon 39 : Meatpacking District\n",
      "ok\n",
      "Polygon 40 : Alphabet City\n",
      "ok\n",
      "Polygon 41 : East Village\n",
      "ok\n",
      "Polygon 42 : NoHo\n",
      "ok\n",
      "Polygon 43 : Greenwich Village\n",
      "ok\n",
      "Polygon 44 : West Village\n",
      "ok\n",
      "Polygon 45 : Hudson Square\n",
      "ok\n",
      "Polygon 46 : SoHo\n",
      "ok\n",
      "Polygon 47 : Little Italy\n",
      "ok\n",
      "Polygon 48 : Lower East Side\n",
      "ok\n",
      "Polygon 49 : Chinatown\n",
      "ok\n",
      "Polygon 50 : TriBeCa\n",
      "ok\n",
      "Polygon 51 : Civic Center\n",
      "ok\n",
      "Polygon 52 : Two Bridges\n",
      "ok\n",
      "Polygon 53 : Financial District\n",
      "ok\n",
      "Polygon 54 : Battery Park City\n",
      "ok\n"
     ]
    }
   ],
   "source": [
    "gCs.checkPoly()"
   ]
  },
  {
   "cell_type": "markdown",
   "metadata": {},
   "source": [
    "## polyList()"
   ]
  },
  {
   "cell_type": "markdown",
   "metadata": {},
   "source": [
    "This method print all the polygons that are stored in the GeoJSON file."
   ]
  },
  {
   "cell_type": "code",
   "execution_count": 7,
   "metadata": {
    "collapsed": false
   },
   "outputs": [
    {
     "data": {
      "text/plain": [
       "['Marble Hill',\n",
       " 'Times Square',\n",
       " 'Flatiron District',\n",
       " 'Inwood',\n",
       " 'Fort George',\n",
       " 'Hudson Heights',\n",
       " 'Washington Heights',\n",
       " 'Sugar Hill',\n",
       " 'Hamilton Heights',\n",
       " 'Manhattanville',\n",
       " 'Morningside Heights',\n",
       " 'Manhattan Valley',\n",
       " 'Harlem',\n",
       " 'East Harlem',\n",
       " 'Carnegie Hill',\n",
       " 'Yorkville',\n",
       " 'Upper West Side',\n",
       " 'Lincoln Square',\n",
       " 'Columbus Circle',\n",
       " 'Upper East Side',\n",
       " 'Lenox Hill',\n",
       " 'Midtown',\n",
       " 'Midtown East',\n",
       " 'Turtle Bay',\n",
       " 'Tudor City',\n",
       " 'Murray Hill',\n",
       " 'Hudson Yards',\n",
       " \"Hell's Kitchen\",\n",
       " 'Garment District',\n",
       " 'Herald Square',\n",
       " 'Koreatown',\n",
       " 'Midtown South',\n",
       " 'NoMad',\n",
       " 'Rose Hill',\n",
       " 'Kips Bay',\n",
       " 'Stuy Town',\n",
       " 'Gramercy',\n",
       " 'Union Square',\n",
       " 'Chelsea',\n",
       " 'Meatpacking District',\n",
       " 'Alphabet City',\n",
       " 'East Village',\n",
       " 'NoHo',\n",
       " 'Greenwich Village',\n",
       " 'West Village',\n",
       " 'Hudson Square',\n",
       " 'SoHo',\n",
       " 'Little Italy',\n",
       " 'Lower East Side',\n",
       " 'Chinatown',\n",
       " 'TriBeCa',\n",
       " 'Civic Center',\n",
       " 'Two Bridges',\n",
       " 'Financial District',\n",
       " 'Battery Park City']"
      ]
     },
     "execution_count": 7,
     "metadata": {},
     "output_type": "execute_result"
    }
   ],
   "source": [
    "gCs.polyList()"
   ]
  },
  {
   "cell_type": "markdown",
   "metadata": {},
   "source": [
    "You can also use to make a list of the polygons:"
   ]
  },
  {
   "cell_type": "code",
   "execution_count": 8,
   "metadata": {
    "collapsed": false
   },
   "outputs": [
    {
     "name": "stdout",
     "output_type": "stream",
     "text": [
      "['Marble Hill', 'Times Square', 'Flatiron District', 'Inwood', 'Fort George', 'Hudson Heights', 'Washington Heights', 'Sugar Hill', 'Hamilton Heights', 'Manhattanville', 'Morningside Heights', 'Manhattan Valley', 'Harlem', 'East Harlem', 'Carnegie Hill', 'Yorkville', 'Upper West Side', 'Lincoln Square', 'Columbus Circle', 'Upper East Side', 'Lenox Hill', 'Midtown', 'Midtown East', 'Turtle Bay', 'Tudor City', 'Murray Hill', 'Hudson Yards', \"Hell's Kitchen\", 'Garment District', 'Herald Square', 'Koreatown', 'Midtown South', 'NoMad', 'Rose Hill', 'Kips Bay', 'Stuy Town', 'Gramercy', 'Union Square', 'Chelsea', 'Meatpacking District', 'Alphabet City', 'East Village', 'NoHo', 'Greenwich Village', 'West Village', 'Hudson Square', 'SoHo', 'Little Italy', 'Lower East Side', 'Chinatown', 'TriBeCa', 'Civic Center', 'Two Bridges', 'Financial District', 'Battery Park City']\n"
     ]
    }
   ],
   "source": [
    "Names=gCs.polyList()\n",
    "print(Names)"
   ]
  },
  {
   "cell_type": "markdown",
   "metadata": {},
   "source": [
    "## getNames(lat, lon)"
   ]
  },
  {
   "cell_type": "markdown",
   "metadata": {},
   "source": [
    "It shows the name of the polygons which contains the point (latitude, longitude) is. If the point is outside every polygon unknown is printed."
   ]
  },
  {
   "cell_type": "code",
   "execution_count": 9,
   "metadata": {
    "collapsed": false
   },
   "outputs": [
    {
     "data": {
      "text/plain": [
       "'Midtown South'"
      ]
     },
     "execution_count": 9,
     "metadata": {},
     "output_type": "execute_result"
    }
   ],
   "source": [
    "# Empire State Building\n",
    "gCs.getNames(40.748417,-73.985833)"
   ]
  },
  {
   "cell_type": "markdown",
   "metadata": {},
   "source": [
    "This method could be used also with Pandas Dataframe:"
   ]
  },
  {
   "cell_type": "code",
   "execution_count": 10,
   "metadata": {
    "collapsed": false
   },
   "outputs": [
    {
     "data": {
      "text/html": [
       "<div>\n",
       "<style scoped>\n",
       "    .dataframe tbody tr th:only-of-type {\n",
       "        vertical-align: middle;\n",
       "    }\n",
       "\n",
       "    .dataframe tbody tr th {\n",
       "        vertical-align: top;\n",
       "    }\n",
       "\n",
       "    .dataframe thead th {\n",
       "        text-align: right;\n",
       "    }\n",
       "</style>\n",
       "<table border=\"1\" class=\"dataframe\">\n",
       "  <thead>\n",
       "    <tr style=\"text-align: right;\">\n",
       "      <th></th>\n",
       "      <th>description</th>\n",
       "      <th>latitude</th>\n",
       "      <th>longitude</th>\n",
       "    </tr>\n",
       "  </thead>\n",
       "  <tbody>\n",
       "    <tr>\n",
       "      <th>0</th>\n",
       "      <td>Ghostbusters Firehouse</td>\n",
       "      <td>40.719646</td>\n",
       "      <td>-74.006297</td>\n",
       "    </tr>\n",
       "    <tr>\n",
       "      <th>1</th>\n",
       "      <td>New York Public Library</td>\n",
       "      <td>40.752042</td>\n",
       "      <td>-73.993447</td>\n",
       "    </tr>\n",
       "    <tr>\n",
       "      <th>2</th>\n",
       "      <td>White house</td>\n",
       "      <td>38.8976998</td>\n",
       "      <td>-77.0365535</td>\n",
       "    </tr>\n",
       "  </tbody>\n",
       "</table>\n",
       "</div>"
      ],
      "text/plain": [
       "               description    latitude    longitude\n",
       "0   Ghostbusters Firehouse   40.719646   -74.006297\n",
       "1  New York Public Library   40.752042   -73.993447\n",
       "2              White house  38.8976998  -77.0365535"
      ]
     },
     "execution_count": 10,
     "metadata": {},
     "output_type": "execute_result"
    }
   ],
   "source": [
    "import pandas as pd\n",
    "import numpy as np\n",
    "df = pd.DataFrame(np.array([['Ghostbusters Firehouse',40.719646, -74.006297], ['New York Public Library', 40.752042, -73.993447],['White house',38.8976998, -77.0365535]]),columns=['description', 'latitude', 'longitude'])\n",
    "df"
   ]
  },
  {
   "cell_type": "code",
   "execution_count": 11,
   "metadata": {
    "collapsed": false
   },
   "outputs": [
    {
     "data": {
      "text/html": [
       "<div>\n",
       "<style scoped>\n",
       "    .dataframe tbody tr th:only-of-type {\n",
       "        vertical-align: middle;\n",
       "    }\n",
       "\n",
       "    .dataframe tbody tr th {\n",
       "        vertical-align: top;\n",
       "    }\n",
       "\n",
       "    .dataframe thead th {\n",
       "        text-align: right;\n",
       "    }\n",
       "</style>\n",
       "<table border=\"1\" class=\"dataframe\">\n",
       "  <thead>\n",
       "    <tr style=\"text-align: right;\">\n",
       "      <th></th>\n",
       "      <th>description</th>\n",
       "      <th>latitude</th>\n",
       "      <th>longitude</th>\n",
       "      <th>zone</th>\n",
       "    </tr>\n",
       "  </thead>\n",
       "  <tbody>\n",
       "    <tr>\n",
       "      <th>0</th>\n",
       "      <td>Ghostbusters Firehouse</td>\n",
       "      <td>40.719646</td>\n",
       "      <td>-74.006297</td>\n",
       "      <td>TriBeCa</td>\n",
       "    </tr>\n",
       "    <tr>\n",
       "      <th>1</th>\n",
       "      <td>New York Public Library</td>\n",
       "      <td>40.752042</td>\n",
       "      <td>-73.993447</td>\n",
       "      <td>Chelsea</td>\n",
       "    </tr>\n",
       "    <tr>\n",
       "      <th>2</th>\n",
       "      <td>White house</td>\n",
       "      <td>38.8976998</td>\n",
       "      <td>-77.0365535</td>\n",
       "      <td>unknown</td>\n",
       "    </tr>\n",
       "  </tbody>\n",
       "</table>\n",
       "</div>"
      ],
      "text/plain": [
       "               description    latitude    longitude     zone\n",
       "0   Ghostbusters Firehouse   40.719646   -74.006297  TriBeCa\n",
       "1  New York Public Library   40.752042   -73.993447  Chelsea\n",
       "2              White house  38.8976998  -77.0365535  unknown"
      ]
     },
     "execution_count": 11,
     "metadata": {},
     "output_type": "execute_result"
    }
   ],
   "source": [
    "df['zone'] = df.apply(lambda row: gCs.getNames(pd.to_numeric(row.latitude), pd.to_numeric(row.longitude)), axis=1)\n",
    "df"
   ]
  },
  {
   "cell_type": "markdown",
   "metadata": {},
   "source": [
    "> last revision of this document: 2019-02-10"
   ]
  }
 ],
 "metadata": {
  "kernelspec": {
   "display_name": "Python 3.7",
   "language": "python",
   "name": "python3.7"
  },
  "language_info": {
   "codemirror_mode": {
    "name": "ipython",
    "version": 3
   },
   "file_extension": ".py",
   "mimetype": "text/x-python",
   "name": "python",
   "nbconvert_exporter": "python",
   "pygments_lexer": "ipython3",
   "version": "3.7.0"
  }
 },
 "nbformat": 4,
 "nbformat_minor": 0
}
